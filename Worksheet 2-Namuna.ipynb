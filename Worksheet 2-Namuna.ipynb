{
 "cells": [
  {
   "cell_type": "raw",
   "id": "7c2cdd1b-29eb-4884-a71f-97409f11355b",
   "metadata": {},
   "source": [
    "Complete all following Task:\n",
    "• Dataset for the Task: \"bank.csv\"\n",
    "1. Load the provided dataset and import in pandas DataFrame.\n",
    "2. Check info of the DataFrame and identify following:\n",
    "(a) columns with dtypes=object\n",
    "(b) unique values of those columns.\n",
    "(c) check for the total number of null values in each column.\n",
    "3. Drop all the columns with dtypes object and store in new DataFrame, also write the DataFrame in\n",
    "”.csv” with name ”banknumericdata.csv”\n",
    "4. Read ”banknumericdata.csv” and Find the summary statistics."
   ]
  },
  {
   "cell_type": "code",
   "execution_count": 12,
   "id": "6143710a-4321-4207-ab99-e584e516ab26",
   "metadata": {},
   "outputs": [
    {
     "name": "stdout",
     "output_type": "stream",
     "text": [
      "<class 'pandas.core.frame.DataFrame'>\n",
      "RangeIndex: 6 entries, 0 to 5\n",
      "Data columns (total 8 columns):\n",
      " #   Column       Non-Null Count  Dtype  \n",
      "---  ------       --------------  -----  \n",
      " 0   CustomerID   6 non-null      int64  \n",
      " 1   Name         6 non-null      object \n",
      " 2   Age          5 non-null      float64\n",
      " 3   Gender       6 non-null      object \n",
      " 4   Balance      6 non-null      int64  \n",
      " 5   AccountType  6 non-null      object \n",
      " 6   LoanStatus   6 non-null      object \n",
      " 7   Region       5 non-null      object \n",
      "dtypes: float64(1), int64(2), object(5)\n",
      "memory usage: 516.0+ bytes\n",
      "1. Dataset Information: None\n",
      "\n",
      "a. Dataset Info of the dtypes=object are ['Name', 'Gender', 'AccountType', 'LoanStatus', 'Region']\n",
      "\n",
      "b. \n",
      "Unique values in column CustomerID:\n",
      "[101 102 103 104 105 106]\n",
      "Unique values in column Name:\n",
      "['John Doe' 'Jane Smith' 'Michael Brown' 'Susan Lee' 'Chris Johnson'\n",
      " 'Karen Adams']\n",
      "Unique values in column Age:\n",
      "[35. 28. 45. 33. 40. nan]\n",
      "Unique values in column Gender:\n",
      "['Male' 'Female']\n",
      "Unique values in column Balance:\n",
      "[ 5000 12000  2500  8000  1500  6000]\n",
      "Unique values in column AccountType:\n",
      "['Savings' 'Current']\n",
      "Unique values in column LoanStatus:\n",
      "['No' 'Yes']\n",
      "Unique values in column Region:\n",
      "['East' 'West' 'South' nan]\n",
      "\n",
      "c. Null values in each column:\n",
      "CustomerID     0\n",
      "Name           0\n",
      "Age            1\n",
      "Gender         0\n",
      "Balance        0\n",
      "AccountType    0\n",
      "LoanStatus     0\n",
      "Region         1\n",
      "dtype: int64\n",
      "\n",
      "Summary Satistics of the new DataFrame: \n",
      "        CustomerID        Age       Balance\n",
      "count    6.000000   5.000000      6.000000\n",
      "mean   103.500000  36.200000   5833.333333\n",
      "std      1.870829   6.534524   3829.708431\n",
      "min    101.000000  28.000000   1500.000000\n",
      "25%    102.250000  33.000000   3125.000000\n",
      "50%    103.500000  35.000000   5500.000000\n",
      "75%    104.750000  40.000000   7500.000000\n",
      "max    106.000000  45.000000  12000.000000\n"
     ]
    }
   ],
   "source": [
    "import pandas as pd\n",
    "\n",
    "dataframe = pd.read_csv(\"bank.csv\")\n",
    "print(f\"1. Dataset Information: {dataframe.info()}\\n\")\n",
    "\n",
    "# : (before the comma): This means select all rows.\n",
    "# 1 (after the comma): This means select the second column (since indexing starts at 0).\n",
    "object_columns = [col for i, col in enumerate(dataframe.columns) if dataframe.iloc[:, i].dtype == 'object']\n",
    "# object_columns = [col for i, col in enumerate(dataframe.columns) if dataframe.iloc[:, i].dtype == 'int64']\n",
    "print(f\"a. Dataset Info of the dtypes=object are {object_columns}\\n\")\n",
    "\n",
    "print(\"b. \")\n",
    "for col in dataframe:\n",
    "    print(f\"Unique values in column {col}:\")\n",
    "    print(dataframe[col].unique())\n",
    "\n",
    "null_values = dataframe.isnull().sum()\n",
    "print(f\"\\nc. Null values in each column:\\n{null_values}\")\n",
    "\n",
    "int_dataframe = dataframe.drop(columns = object_columns)\n",
    "int_dataframe.to_csv(\"bankNumericData.csv\", index = False);\n",
    "\n",
    "new_dataframe = pd.read_csv(\"bankNumericdata.csv\")\n",
    "print(f\"\\nSummary Satistics of the new DataFrame: \\n {new_dataframe.describe()}\")"
   ]
  },
  {
   "cell_type": "raw",
   "id": "6115f2e2-0aff-400f-af1f-1d55615fe128",
   "metadata": {},
   "source": [
    "Complete all the following Task:\n",
    "• Dataset for the Task: \"medical_student.csv\"\n",
    "1. Load the provided dataset and import in pandas DataFrame.\n",
    "2. Check info of the DataFrame and identify column with missing (null) values.\n",
    "3. For the column with missing values fill the values using various techniques we discussed above. Try\n",
    "to explain why did you select the particular methods for particular column.\n",
    "4. Check for any duplicate values present in Dataset and do necessary to manage the duplicate items.\n",
    "{Hint: dataset.duplicated.sum()}"
   ]
  },
  {
   "cell_type": "code",
   "execution_count": 15,
   "id": "9e3232ac-46d0-4bd6-92a9-a26addbae3fe",
   "metadata": {},
   "outputs": [
    {
     "name": "stdout",
     "output_type": "stream",
     "text": [
      "1. Medical Datafram:\n",
      "    StudentID             Name   Age  Gender  Year      Specialization\n",
      "0           1         John Doe  22.0    Male   2.0          Cardiology\n",
      "1           2       Jane Smith  23.0  Female   3.0           Neurology\n",
      "2           3    Emily Johnson  24.0  Female   NaN         Orthopedics\n",
      "3           4    Michael Brown   NaN    Male   1.0    General Medicine\n",
      "4           5     Olivia Davis  25.0  Female   3.0          Pediatrics\n",
      "5           6     James Wilson  26.0    Male   4.0            Oncology\n",
      "6           7   Isabella Moore  22.0  Female   2.0             Surgery\n",
      "7           8    Daniel Taylor  23.0    Male   3.0           Radiology\n",
      "8           9  Sophia Anderson  24.0  Female   4.0  Emergency Medicine\n",
      "9          10   Matthew Thomas  21.0    Male   1.0                 NaN\n",
      "10          1         John Doe  22.0    Male   2.0          Cardiology\n",
      "11          2         John Doe  22.0    Male   2.0          Cardiology\n",
      "\n",
      "<class 'pandas.core.frame.DataFrame'>\n",
      "RangeIndex: 12 entries, 0 to 11\n",
      "Data columns (total 6 columns):\n",
      " #   Column          Non-Null Count  Dtype  \n",
      "---  ------          --------------  -----  \n",
      " 0   StudentID       12 non-null     int64  \n",
      " 1   Name            12 non-null     object \n",
      " 2   Age             11 non-null     float64\n",
      " 3   Gender          12 non-null     object \n",
      " 4   Year            11 non-null     float64\n",
      " 5   Specialization  11 non-null     object \n",
      "dtypes: float64(2), int64(1), object(3)\n",
      "memory usage: 708.0+ bytes\n",
      "2. DataFrame information: None\n",
      "\n",
      "2. Null value in each column:\n",
      "StudentID         0\n",
      "Name              0\n",
      "Age               1\n",
      "Gender            0\n",
      "Year              1\n",
      "Specialization    1\n",
      "dtype: int64\n",
      "\n",
      "3. Missing Value Optimization:\n",
      "    StudentID             Name   Age  Gender  Year      Specialization\n",
      "0           1         John Doe  22.0    Male   2.0          Cardiology\n",
      "1           2       Jane Smith  23.0  Female   3.0           Neurology\n",
      "2           3    Emily Johnson  24.0  Female   NaN         Orthopedics\n",
      "3           4    Michael Brown  23.0    Male   1.0    General Medicine\n",
      "4           5     Olivia Davis  25.0  Female   3.0          Pediatrics\n",
      "5           6     James Wilson  26.0    Male   4.0            Oncology\n",
      "6           7   Isabella Moore  22.0  Female   2.0             Surgery\n",
      "7           8    Daniel Taylor  23.0    Male   3.0           Radiology\n",
      "8           9  Sophia Anderson  24.0  Female   4.0  Emergency Medicine\n",
      "9          10   Matthew Thomas  21.0    Male   1.0          Cardiology\n",
      "10          1         John Doe  22.0    Male   2.0          Cardiology\n",
      "11          2         John Doe  22.0    Male   2.0          Cardiology\n",
      "\n",
      "4. Number of duplicate rows: 1\n",
      "After removing duplicates:\n",
      "    StudentID             Name   Age  Gender  Year      Specialization\n",
      "0           1         John Doe  22.0    Male   2.0          Cardiology\n",
      "1           2       Jane Smith  23.0  Female   3.0           Neurology\n",
      "2           3    Emily Johnson  24.0  Female   NaN         Orthopedics\n",
      "3           4    Michael Brown  23.0    Male   1.0    General Medicine\n",
      "4           5     Olivia Davis  25.0  Female   3.0          Pediatrics\n",
      "5           6     James Wilson  26.0    Male   4.0            Oncology\n",
      "6           7   Isabella Moore  22.0  Female   2.0             Surgery\n",
      "7           8    Daniel Taylor  23.0    Male   3.0           Radiology\n",
      "8           9  Sophia Anderson  24.0  Female   4.0  Emergency Medicine\n",
      "9          10   Matthew Thomas  21.0    Male   1.0          Cardiology\n",
      "11          2         John Doe  22.0    Male   2.0          Cardiology\n"
     ]
    }
   ],
   "source": [
    "import pandas as pd\n",
    "\n",
    "medical_df = pd.read_csv(\"medical_student.csv\")\n",
    "print(f\"1. Medical Datafram:\\n{medical_df}\\n\")\n",
    "\n",
    "print(f\"2. DataFrame information: {medical_df.info()}\")\n",
    "\n",
    "null_values = medical_df.isnull().sum()\n",
    "print(f\"\\n2. Null value in each column:\\n{null_values}\")\n",
    "\n",
    "# medical_df.fillna(method=\"ffill\") #Copy the previous table value\n",
    "medical_df['Age'] = medical_df['Age'].fillna(medical_df['Age'].median())\n",
    "medical_df['Specialization'] = medical_df['Specialization'].fillna(medical_df['Specialization'].mode()[0])\n",
    "print(f\"\\n3. Missing Value Optimization:\\n{medical_df}\")\n",
    "\n",
    "duplicates = medical_df.duplicated().sum()\n",
    "print(f\"\\n4. Number of duplicate rows: {duplicates}\")\n",
    "if duplicates > 0:\n",
    "    medical_df = medical_df.drop_duplicates()\n",
    "print(f\"After removing duplicates:\\n{medical_df}\")"
   ]
  },
  {
   "cell_type": "raw",
   "id": "22184dc3-15a9-433e-a199-47b594a4795a",
   "metadata": {},
   "source": [
    "The ’Embarked’ column in the Titanic dataset contains categorical data representing the ports of embarkation:\n",
    "• ’C’ for Cherbourg\n",
    "• ’Q’ for Queenstown\n",
    "• ’S’ for Southampton\n",
    "Task:\n",
    "1. Use one-hot encoding to convert the ’Embarked’ column into separate binary columns (’Embarked C’,\n",
    "’Embarked Q’, ’Embarked S’).\n",
    "2. Add these new columns to the original DataFrame.\n",
    "3. Drop the original ’Embarked’ column.\n",
    "4. Print the first few rows of the modified DataFrame to verify the changes.\n"
   ]
  },
  {
   "cell_type": "code",
   "execution_count": 4,
   "id": "9dfd3615-32ac-4416-ba27-e9376362180c",
   "metadata": {},
   "outputs": [
    {
     "name": "stdout",
     "output_type": "stream",
     "text": [
      "   PassengerId  Pclass       Name     Sex  Age  Survived  Embarked_C  \\\n",
      "0            1       1     Braund    male   22         1       False   \n",
      "1            2       1    Cumings  female   38         0        True   \n",
      "2            3       1  Heikkinen  female   26         0       False   \n",
      "3            4       1   Futrelle  female   35         1       False   \n",
      "4            5       1      Allen    male   35         1       False   \n",
      "\n",
      "   Embarked_Q  Embarked_S  \n",
      "0       False        True  \n",
      "1       False       False  \n",
      "2       False        True  \n",
      "3       False        True  \n",
      "4       False        True  \n"
     ]
    }
   ],
   "source": [
    "import pandas as pd\n",
    "\n",
    "titanic_df = pd.read_csv(\"titanic.csv\")\n",
    "one_hot_encoding = pd.get_dummies(titanic_df['Embarked'], prefix='Embarked')\n",
    "\n",
    "titanic_df = pd.concat([titanic_df, one_hot_encoding], axis = 1)\n",
    "\n",
    "titanic_df.drop(columns= ['Embarked'], inplace = True)\n",
    "\n",
    "print(titanic_df.head())"
   ]
  },
  {
   "cell_type": "raw",
   "id": "c88f8d9b-911a-424f-8a5b-3a9d5cf5dfad",
   "metadata": {},
   "source": [
    "4. Compare the mean survival rates (’Survived’) for the different groups in the ’Sex’ column. Draw a visualization to show how the survival distributions vary by gender."
   ]
  },
  {
   "cell_type": "code",
   "execution_count": 5,
   "id": "a75ba816-4bf9-41b1-84d0-115a948b9a5a",
   "metadata": {},
   "outputs": [
    {
     "name": "stdout",
     "output_type": "stream",
     "text": [
      "Mean survival rates by gender:\n",
      "Sex\n",
      "female    0.666667\n",
      "male      0.625000\n",
      "Name: Survived, dtype: float64\n",
      "\n"
     ]
    },
    {
     "data": {
      "image/png": "[encoded data removed]",
      "text/plain": [
       "<Figure size 640x480 with 1 Axes>"
      ]
     },
     "metadata": {},
     "output_type": "display_data"
    }
   ],
   "source": [
    "import pandas as pd\n",
    "import seaborn as sns\n",
    "import matplotlib.pyplot as plt\n",
    "\n",
    "# mean_survival_male = titanic_df.loc[titanic_df['Sex'] == 'male', 'Survived'].mean()\n",
    "# mean_survival_female = titanic_df.loc[titanic_df['Sex'] == 'female', 'Survived'].mean()\n",
    "mean_survival_by_gender = titanic_df.groupby('Sex')['Survived'].mean()\n",
    "\n",
    "# print(f\"Mean Survival rates of male: {mean_survival_male}\")\n",
    "# print(f\"Mean Survival rates of Female: {mean_survival_female}\")\n",
    "print(f\"Mean survival rates by gender:\\n{mean_survival_by_gender}\\n\")\n",
    "\n",
    "sns.barplot(x=mean_survival_by_gender.index, y=mean_survival_by_gender.values)\n",
    "# sns.barplot(x=['Male', 'Female'], y=[mean_survival_male, mean_survival_female])\n",
    "\n",
    "plt.title('Survival Distribution by Gender')\n",
    "plt.xlabel('Gender')\n",
    "plt.ylabel('Survival Rate')\n",
    "plt.show()\n"
   ]
  },
  {
   "cell_type": "raw",
   "id": "6a238b6a-da00-4fba-9a76-69204dab57fa",
   "metadata": {},
   "source": [
    "5. Draw a visualization that breaks your visualization from Exercise 3 down by the port of embarkation (’Embarked’). In this instance, compare the ports ’C’ (Cherbourg), ’Q’ (Queenstown), and ’S’ (Southampton)."
   ]
  },
  {
   "cell_type": "code",
   "execution_count": 7,
   "id": "2fbe8924-0e39-418a-911f-6ed0e7ed96d4",
   "metadata": {},
   "outputs": [
    {
     "name": "stdout",
     "output_type": "stream",
     "text": [
      "Mean survival rates by Embarked port:\n",
      "Embarked\n",
      "C    0.500000\n",
      "Q    1.000000\n",
      "S    0.647059\n",
      "Name: Survived, dtype: float64\n",
      "\n"
     ]
    },
    {
     "data": {
      "image/png": "[encoded data removed]",
      "text/plain": [
       "<Figure size 640x480 with 1 Axes>"
      ]
     },
     "metadata": {},
     "output_type": "display_data"
    }
   ],
   "source": [
    "import pandas as pd\n",
    "import seaborn as sns\n",
    "import matplotlib.pyplot as plt\n",
    "\n",
    "titanic_df = pd.read_csv(\"titanic.csv\")\n",
    "\n",
    "mean_survival_by_embarked = titanic_df.groupby('Embarked')['Survived'].mean()\n",
    "\n",
    "print(f\"Mean survival rates by Embarked port:\\n{mean_survival_by_embarked}\\n\")\n",
    "\n",
    "sns.barplot(x=mean_survival_by_embarked.index, y=mean_survival_by_embarked.values)\n",
    "\n",
    "plt.title('Survival Rates by Embarkation Port')\n",
    "plt.xlabel('Embarkation Port')\n",
    "plt.ylabel('Survival Rate')\n",
    "plt.show()"
   ]
  },
  {
   "cell_type": "raw",
   "id": "4dede570-aebf-456e-8d26-379c6a4d92df",
   "metadata": {},
   "source": [
    "6. Show how the survival rates (’Survived’) vary by age group and passenger class (’Pclass’). Break up the\n",
    "’Age’ column into five quantiles in your DataFrame, and then compare the means of ’Survived’ by class\n",
    "and age group. Draw a visualization using a any plotting library to represent this graphically."
   ]
  },
  {
   "cell_type": "code",
   "execution_count": 16,
   "id": "e78e0ec0-268f-4c85-8371-edd506500fb7",
   "metadata": {},
   "outputs": [
    {
     "name": "stderr",
     "output_type": "stream",
     "text": [
      "C:\\Users\\HP\\AppData\\Local\\Temp\\ipykernel_18624\\3307887130.py:6: FutureWarning: The default of observed=False is deprecated and will be changed to True in a future version of pandas. Pass observed=False to retain current behavior or observed=True to adopt the future default and silence this warning.\n",
      "  mean_survival_by_age_class = titanic_df.groupby(['Age Group', 'Pclass'])['Survived'].mean().reset_index()\n"
     ]
    },
    {
     "name": "stdout",
     "output_type": "stream",
     "text": [
      "  Age Group  Pclass  Survived\n",
      "0        Q1       1  1.000000\n",
      "1        Q1       2  1.000000\n",
      "2        Q2       1  0.500000\n",
      "3        Q2       2  0.000000\n",
      "4        Q3       1  1.000000\n",
      "5        Q3       2  1.000000\n",
      "6        Q4       1  0.666667\n",
      "7        Q4       2  0.000000\n",
      "8        Q5       1  0.000000\n",
      "9        Q5       2  0.666667\n"
     ]
    },
    {
     "data": {
      "image/png": "[encoded data removed]",
      "text/plain": [
       "<Figure size 640x480 with 1 Axes>"
      ]
     },
     "metadata": {},
     "output_type": "display_data"
    }
   ],
   "source": [
    "import pandas as pd\n",
    "import seaborn as sns\n",
    "import matplotlib.pyplot as plt\n",
    "\n",
    "titanic_df['Age Group'] = pd.qcut(titanic_df['Age'], 5, labels=['Q1', 'Q2', 'Q3', 'Q4', 'Q5'])\n",
    "mean_survival_by_age_class = titanic_df.groupby(['Age Group', 'Pclass'])['Survived'].mean().reset_index()\n",
    "\n",
    "print(mean_survival_by_age_class)\n",
    "\n",
    "sns.barplot(data=mean_survival_by_age_class, x='Age Group', y='Survived', hue='Pclass')\n",
    "\n",
    "plt.title('Survival Rates by Age Group and Passenger Class')\n",
    "plt.xlabel('Age Group (Quantiles)')\n",
    "plt.ylabel('Mean Survival Rate')\n",
    "plt.legend(title='Pclass')\n",
    "\n",
    "plt.show()\n"
   ]
  },
  {
   "cell_type": "code",
   "execution_count": null,
   "id": "63da3f39-9957-46b8-a36a-a47cffc74ce0",
   "metadata": {},
   "outputs": [],
   "source": []
  }
 ],
 "metadata": {
  "kernelspec": {
   "display_name": "Python 3 (ipykernel)",
   "language": "python",
   "name": "python3"
  },
  "language_info": {
   "codemirror_mode": {
    "name": "ipython",
    "version": 3
   },
   "file_extension": ".py",
   "mimetype": "text/x-python",
   "name": "python",
   "nbconvert_exporter": "python",
   "pygments_lexer": "ipython3",
   "version": "3.12.0"
  }
 },
 "nbformat": 4,
 "nbformat_minor": 5
}
